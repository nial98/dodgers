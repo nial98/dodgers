{
 "cells": [
  {
   "cell_type": "code",
   "execution_count": 4,
   "metadata": {},
   "outputs": [],
   "source": [
    "import random"
   ]
  },
  {
   "cell_type": "code",
   "execution_count": 8,
   "metadata": {},
   "outputs": [],
   "source": [
    "def simulate():\n",
    "    \n",
    "    duplicate = False\n",
    "    weeks = 0\n",
    "\n",
    "    nums = [0, 1, 2, 3, 4, 5, 6, 7]\n",
    "    people = { 0:[], 1:[], 2:[], 3:[], 4:[], 5:[], 6:[], 7:[] }\n",
    "    \n",
    "    while not duplicate:\n",
    "        # generate random pairs and put them into tuples\n",
    "        random.shuffle(nums)\n",
    "        \n",
    "        # put the pairings into an array\n",
    "        pairs = []\n",
    "        for i in range(0, len(nums), 2):\n",
    "            pairs.append((nums[i], nums[i+1]))\n",
    "        \n",
    "        # iterate through each pairing to check if there is a duplicate pairing\n",
    "        for pair in pairs:\n",
    "\n",
    "            # duplicate match => return the number of weeks it took\n",
    "            if pair[1] in people[pair[0]]:\n",
    "                return weeks\n",
    "            \n",
    "            # add the two new people to each others list of possible duplicates\n",
    "            else:\n",
    "                people[pair[0]].append(pair[1])\n",
    "                people[pair[1]].append(pair[0])\n",
    "\n",
    "        weeks += 1        "
   ]
  },
  {
   "cell_type": "code",
   "execution_count": 12,
   "metadata": {},
   "outputs": [],
   "source": [
    "def run_sim(num_sims):\n",
    "    \n",
    "    week_dist = [0, 0, 0, 0, 0, 0, 0, 0]\n",
    "    total_weeks = 0\n",
    "    \n",
    "    for i in range(num_sims):\n",
    "        w = simulate()\n",
    "        week_dist[w] += 1\n",
    "        total_weeks += w\n",
    "        \n",
    "    s = sum(week_dist)\n",
    "    week_dist[:] = [x / s for x in week_dist]\n",
    "    \n",
    "    print(week_dist)\n",
    "    print(total_weeks / num_sims)"
   ]
  },
  {
   "cell_type": "code",
   "execution_count": 13,
   "metadata": {},
   "outputs": [
    {
     "name": "stdout",
     "output_type": "stream",
     "text": [
      "[0.0, 0.42964, 0.40096, 0.14638, 0.02184, 0.00116, 2e-05, 0.0]\n",
      "1.76398\n"
     ]
    }
   ],
   "source": [
    "run_sim(50000)"
   ]
  },
  {
   "cell_type": "code",
   "execution_count": null,
   "metadata": {},
   "outputs": [],
   "source": []
  }
 ],
 "metadata": {
  "kernelspec": {
   "display_name": "Python 3",
   "language": "python",
   "name": "python3"
  },
  "language_info": {
   "codemirror_mode": {
    "name": "ipython",
    "version": 3
   },
   "file_extension": ".py",
   "mimetype": "text/x-python",
   "name": "python",
   "nbconvert_exporter": "python",
   "pygments_lexer": "ipython3",
   "version": "3.6.5"
  }
 },
 "nbformat": 4,
 "nbformat_minor": 2
}
